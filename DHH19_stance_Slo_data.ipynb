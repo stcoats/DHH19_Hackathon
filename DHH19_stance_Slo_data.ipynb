{
 "cells": [
  {
   "cell_type": "code",
   "execution_count": null,
   "metadata": {},
   "outputs": [],
   "source": [
    "import glob\n",
    "import pandas as pd\n",
    "from pandas.io.json import json_normalize\n",
    "from csv import writer\n",
    "import ujson as jsonimport pandas as pd\n",
    "import seaborn as sns\n",
    "import matplotlib.pyplot as plt\n",
    "from sklearn.model_selection import train_test_split\n",
    "from sklearn.feature_extraction.text import CountVectorizer\n",
    "from sklearn.feature_extraction.text import TfidfTransformer\n",
    "from sklearn.naive_bayes import MultinomialNB\n",
    "\n"
   ]
  },
  {
   "cell_type": "code",
   "execution_count": null,
   "metadata": {},
   "outputs": [],
   "source": [
    "#Get the Slovenian data and put it in a 'Brexit_tweets_stance' folder\n",
    "#Get Bt_list.txt from https://github.com/stcoats/DHH19_Hackathon/blob/master/Bt_list.txt\n",
    "#Do the following in the command line: \n",
    "#pip install twarc\n",
    "#You will need Twitter developer account for the following:\n",
    "#twarc configure\n",
    "#twarc hydrate Bt_list.txt > Brexit_slovenia.jsonl\n",
    "\n",
    "#Now in Python, get the tweet texts from the Slovenian data \n",
    "\n",
    "\n",
    "path = '/home/cloud-user/Downloads/Brexit_tweets_stance/'\n",
    "all_files = glob.glob(path + \"/2*\")\n",
    "li = pd.DataFrame()\n",
    "for filename in all_files:\n",
    "    df = pd.read_csv(filename, header=None, sep = \"\\t\")\n",
    "    li=li.append(df)\n",
    "\n",
    "with open(\"/home/cloud-user/Downloads/Brexit_tweets_stance/Brexit_tweets_stance/Brexit_slovenia_outfile.csv\",\"w\") as outfile:\n",
    "    output = writer(outfile)\n",
    "    with open(\"/home/cloud-user/Downloads/Brexit_tweets_stance/Brexit_tweets_stance/Brexit_slovenia.jsonl\") as f:\n",
    "        for line in f:\n",
    "            tweet = json.loads(line)\n",
    "            try:\n",
    "                row = (tweet[\"id\"],tweet[\"user\"][\"screen_name\"],tweet[\"full_text\"])\n",
    "                \n",
    "                values = [value for value in row]\n",
    "                output.writerow(values)\n",
    "            except:\n",
    "                continue"
   ]
  },
  {
   "cell_type": "code",
   "execution_count": null,
   "metadata": {},
   "outputs": [],
   "source": [
    "li.columns = [\"id\",\"stance\"]\n",
    "df.columns = [\"id\",\"screen_name\",\"text\"]\n",
    "#data frame of labelled Slovenian Brexit tweets\n",
    "slo_pn = pd.merge(df,li, on = \"id\")"
   ]
  },
  {
   "cell_type": "code",
   "execution_count": null,
   "metadata": {},
   "outputs": [],
   "source": [
    "\n",
    "#slo_pn = pd.read_msgpack(\"/home/cloud-user/Hackathon/slovenia_pos_neu_neg.msg\")\n",
    "#data frame of our tweets\n",
    "dhh = pd.read_msgpack(\"/home/cloud-user/taito_wrk/DONOTREMOVE/Hackathon19/dhh_tweets_frame.msg\")\n",
    "\n",
    "dhh1 = dhh[dhh[\"lang\"].notnull()]\n",
    "dhh1[\"lang\"]=[str(x) for x in dhh1[\"lang\"]]\n",
    "dhh2 = dhh1[dhh1[\"lang\"]==\"en\"]\n",
    "slo_pn_training = slo_pn.iloc[0:30000]\n",
    "\n",
    "X_train, X_test, y_train, y_test = train_test_split(slo_pn_training['text'], slo_pn_training['stance'], random_state = 0)\n",
    "count_vect = CountVectorizer()\n",
    "X_train_counts = count_vect.fit_transform(X_train)\n",
    "tfidf_transformer = TfidfTransformer()\n",
    "X_train_tfidf = tfidf_transformer.fit_transform(X_train_counts)"
   ]
  },
  {
   "cell_type": "code",
   "execution_count": null,
   "metadata": {},
   "outputs": [],
   "source": [
    "from sklearn.feature_extraction.text import TfidfVectorizer\n",
    "tfidf = TfidfVectorizer(sublinear_tf=True, min_df=5, norm='l2', encoding='utf-8', ngram_range=(1, 2), stop_words='english')\n",
    "\n",
    "features = tfidf.fit_transform(slo_pn_training['text']).toarray()\n",
    "slo_pn_training['category_id'] = slo_pn_training['stance'].factorize()[0]\n",
    "labels = slo_pn_training.category_id\n",
    "clf = MultinomialNB().fit(X_train_tfidf, y_train)\n",
    "dhh_no_rt = dhh2[~dhh2[\"text\"].str.contains(\"RT @\")]"
   ]
  },
  {
   "cell_type": "code",
   "execution_count": null,
   "metadata": {},
   "outputs": [],
   "source": [
    "from sklearn.linear_model import LogisticRegression\n",
    "from sklearn.ensemble import RandomForestClassifier\n",
    "from sklearn.svm import LinearSVC\n",
    "from sklearn.model_selection import cross_val_score\n",
    "models = [\n",
    "    RandomForestClassifier(n_estimators=200, max_depth=3, random_state=0),\n",
    "    LinearSVC(),\n",
    "    MultinomialNB(),\n",
    "    LogisticRegression(random_state=0),\n",
    "]\n",
    "CV = 5\n",
    "cv_df = pd.DataFrame(index=range(CV * len(models)))\n",
    "entries = []\n",
    "for model in models:\n",
    "    model_name = model.__class__.__name__\n",
    "    accuracies = cross_val_score(model, features, labels, scoring='accuracy', cv=CV)\n",
    "    for fold_idx, accuracy in enumerate(accuracies):\n",
    "        entries.append((model_name, fold_idx, accuracy))\n",
    "cv_df = pd.DataFrame(entries, columns=['model_name', 'fold_idx', 'accuracy'])"
   ]
  },
  {
   "cell_type": "code",
   "execution_count": null,
   "metadata": {},
   "outputs": [],
   "source": [
    "sns.boxplot(x='model_name', y='accuracy', data=cv_df)\n",
    "sns.stripplot(x='model_name', y='accuracy', data=cv_df, \n",
    "              size=8, jitter=True, edgecolor=\"gray\", linewidth=2)\n",
    "plt.show()"
   ]
  },
  {
   "cell_type": "code",
   "execution_count": null,
   "metadata": {},
   "outputs": [],
   "source": [
    "for i,x in dhh_no_rt.iloc[0:100].iterrows():\n",
    "    print(x[\"text\"], clf.predict(count_vect.transform([x[\"text\"]])))"
   ]
  }
 ],
 "metadata": {
  "kernelspec": {
   "display_name": "Python 3",
   "language": "python",
   "name": "python3"
  },
  "language_info": {
   "codemirror_mode": {
    "name": "ipython",
    "version": 3
   },
   "file_extension": ".py",
   "mimetype": "text/x-python",
   "name": "python",
   "nbconvert_exporter": "python",
   "pygments_lexer": "ipython3",
   "version": "3.6.8"
  }
 },
 "nbformat": 4,
 "nbformat_minor": 2
}
